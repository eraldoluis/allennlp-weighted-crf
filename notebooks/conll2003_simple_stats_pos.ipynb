{
 "cells": [
  {
   "cell_type": "code",
   "execution_count": 1,
   "metadata": {},
   "outputs": [],
   "source": [
    "from matplotlib import pyplot as plt\n",
    "from collections import Counter"
   ]
  },
  {
   "cell_type": "code",
   "execution_count": 2,
   "metadata": {},
   "outputs": [
    {
     "data": {
      "text/plain": [
       "Counter({'-X-': 946,\n",
       "         'NNP': 34392,\n",
       "         'VBZ': 2426,\n",
       "         'JJ': 11831,\n",
       "         'NN': 23899,\n",
       "         'TO': 3469,\n",
       "         'VB': 4252,\n",
       "         '.': 7389,\n",
       "         'CD': 19704,\n",
       "         'DT': 13453,\n",
       "         'VBD': 8293,\n",
       "         'IN': 19064,\n",
       "         'PRP': 3163,\n",
       "         'NNS': 9903,\n",
       "         'VBP': 1436,\n",
       "         'MD': 1199,\n",
       "         'VBN': 4105,\n",
       "         'POS': 1553,\n",
       "         'JJR': 382,\n",
       "         '\"': 2178,\n",
       "         'RB': 3975,\n",
       "         ',': 7291,\n",
       "         'FW': 166,\n",
       "         'CC': 3653,\n",
       "         'WDT': 506,\n",
       "         '(': 2866,\n",
       "         ')': 2866,\n",
       "         ':': 2386,\n",
       "         'PRP$': 1520,\n",
       "         'RBR': 163,\n",
       "         'VBG': 2585,\n",
       "         'EX': 136,\n",
       "         'WP': 528,\n",
       "         'WRB': 384,\n",
       "         '$': 427,\n",
       "         'RP': 528,\n",
       "         'NNPS': 684,\n",
       "         'SYM': 439,\n",
       "         'RBS': 35,\n",
       "         'UH': 30,\n",
       "         'PDT': 33,\n",
       "         \"''\": 35,\n",
       "         'LS': 13,\n",
       "         'JJS': 254,\n",
       "         'WP$': 23,\n",
       "         'NN|SYM': 4})"
      ]
     },
     "execution_count": 2,
     "metadata": {},
     "output_type": "execute_result"
    }
   ],
   "source": [
    "labels = []\n",
    "with open('/data/eraldo/allennlp/data/conll2003_simple/eng_simple.train') as f:\n",
    "    for line in f:\n",
    "        ftrs = line.strip().split()\n",
    "        if len(ftrs) < 4:\n",
    "            continue\n",
    "        labels.append(ftrs[1])\n",
    "\n",
    "counts = Counter(labels)\n",
    "counts"
   ]
  },
  {
   "cell_type": "code",
   "execution_count": 5,
   "metadata": {},
   "outputs": [
    {
     "data": {
      "image/png": "[encoded data removed]",
      "text/plain": [
       "<Figure size 432x288 with 1 Axes>"
      ]
     },
     "metadata": {
      "needs_background": "light"
     },
     "output_type": "display_data"
    }
   ],
   "source": [
    "_ = plt.hist(labels)"
   ]
  }
 ],
 "metadata": {
  "interpreter": {
   "hash": "0d9449e2f370e60d41a13f1289fd052a2d78ca0cb5322aa6f8896c5559490b04"
  },
  "kernelspec": {
   "display_name": "Python 3.10.0 ('allen')",
   "language": "python",
   "name": "python3"
  },
  "language_info": {
   "codemirror_mode": {
    "name": "ipython",
    "version": 3
   },
   "file_extension": ".py",
   "mimetype": "text/x-python",
   "name": "python",
   "nbconvert_exporter": "python",
   "pygments_lexer": "ipython3",
   "version": "3.10.0"
  },
  "orig_nbformat": 4
 },
 "nbformat": 4,
 "nbformat_minor": 2
}
