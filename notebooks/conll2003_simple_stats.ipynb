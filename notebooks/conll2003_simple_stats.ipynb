{
 "cells": [
  {
   "cell_type": "code",
   "execution_count": 1,
   "metadata": {},
   "outputs": [],
   "source": [
    "from matplotlib import pyplot as plt\n",
    "from collections import Counter"
   ]
  },
  {
   "cell_type": "code",
   "execution_count": 9,
   "metadata": {},
   "outputs": [
    {
     "data": {
      "text/plain": [
       "Counter({'O': 170524, 'ORG': 10025, 'MISC': 4593, 'PER': 11128, 'LOC': 8297})"
      ]
     },
     "execution_count": 9,
     "metadata": {},
     "output_type": "execute_result"
    }
   ],
   "source": [
    "labels = []\n",
    "with open('/data/eraldo/allennlp/data/conll2003_simple/eng_simple.train') as f:\n",
    "    for line in f:\n",
    "        ftrs = line.strip().split()\n",
    "        if len(ftrs) < 4:\n",
    "            continue\n",
    "        labels.append(ftrs[-1])\n",
    "\n",
    "counts = Counter(labels)\n",
    "counts"
   ]
  },
  {
   "cell_type": "code",
   "execution_count": 11,
   "metadata": {},
   "outputs": [
    {
     "name": "stdout",
     "output_type": "stream",
     "text": [
      "ORG/O: 17.009875311720698\n",
      "MISC/O: 37.12693228826475\n",
      "PER/O: 15.323867721063984\n",
      "LOC/O: 20.55248885139207\n"
     ]
    }
   ],
   "source": [
    "for k, v in counts.items():\n",
    "    if k != 'O':\n",
    "        print(f'{k}/O: {counts[\"O\"]/v}')"
   ]
  },
  {
   "cell_type": "code",
   "execution_count": 8,
   "metadata": {},
   "outputs": [
    {
     "data": {
      "image/png": "[encoded data removed]",
      "text/plain": [
       "<Figure size 432x288 with 1 Axes>"
      ]
     },
     "metadata": {
      "needs_background": "light"
     },
     "output_type": "display_data"
    }
   ],
   "source": [
    "_ = plt.hist(labels)"
   ]
  }
 ],
 "metadata": {
  "interpreter": {
   "hash": "0d9449e2f370e60d41a13f1289fd052a2d78ca0cb5322aa6f8896c5559490b04"
  },
  "kernelspec": {
   "display_name": "Python 3.10.0 ('allen')",
   "language": "python",
   "name": "python3"
  },
  "language_info": {
   "codemirror_mode": {
    "name": "ipython",
    "version": 3
   },
   "file_extension": ".py",
   "mimetype": "text/x-python",
   "name": "python",
   "nbconvert_exporter": "python",
   "pygments_lexer": "ipython3",
   "version": "3.10.0"
  },
  "orig_nbformat": 4
 },
 "nbformat": 4,
 "nbformat_minor": 2
}
